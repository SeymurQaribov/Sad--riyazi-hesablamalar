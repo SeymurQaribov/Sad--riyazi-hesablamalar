{
 "cells": [
  {
   "cell_type": "markdown",
   "id": "cbc09d35",
   "metadata": {},
   "source": [
    "Hansı məbləğin 5/12 hissəsi 100 manatın 3+(3\\4) hissəsinə bərabər olacaq."
   ]
  },
  {
   "cell_type": "code",
   "execution_count": 1,
   "id": "331a9ba0",
   "metadata": {},
   "outputs": [],
   "source": [
    "import math\n",
    "from __future__ import division"
   ]
  },
  {
   "cell_type": "code",
   "execution_count": 2,
   "id": "cf0bbfe3",
   "metadata": {},
   "outputs": [],
   "source": [
    "p1 = 5/12\n",
    "p2 = 3 + (3/4)\n",
    "a = 100"
   ]
  },
  {
   "cell_type": "code",
   "execution_count": 3,
   "id": "94210ab8",
   "metadata": {},
   "outputs": [
    {
     "name": "stdout",
     "output_type": "stream",
     "text": [
      "Tələb olunan məbləğ 900.0 AZE\n"
     ]
    }
   ],
   "source": [
    "x = p2*a/p1\n",
    "print(\"Tələb olunan məbləğ\",x,'AZE')"
   ]
  },
  {
   "cell_type": "markdown",
   "id": "486b4508",
   "metadata": {},
   "source": [
    "4 əkinçi 30 gündə 40 hektar taxil biçərsə, 18 əkinçi 12 gündə neçə hektar taxəl biçər."
   ]
  },
  {
   "cell_type": "code",
   "execution_count": 4,
   "id": "4e44779b",
   "metadata": {},
   "outputs": [],
   "source": [
    "import math \n",
    "from __future__ import division#i don't need it ,just for remember syntaxsis"
   ]
  },
  {
   "cell_type": "code",
   "execution_count": 6,
   "id": "d3bf3738",
   "metadata": {},
   "outputs": [],
   "source": [
    "N1 = 4\n",
    "D1 = 30\n",
    "D2 = 12\n",
    "W1 = 40\n",
    "N2 = 18"
   ]
  },
  {
   "cell_type": "code",
   "execution_count": 9,
   "id": "2d5d2f0e",
   "metadata": {},
   "outputs": [
    {
     "name": "stdout",
     "output_type": "stream",
     "text": [
      "Hektarlarin sayi 72.0\n"
     ]
    }
   ],
   "source": [
    "W2 = N2*D2*W1/(D1*N1)\n",
    "print(\"Hektarlarin sayi\",W2)"
   ]
  },
  {
   "cell_type": "markdown",
   "id": "77f5089d",
   "metadata": {},
   "source": [
    "Əgər a/a+b = 17/23,bu zaman a+b/a-b nəyə bərabərdir?\n"
   ]
  },
  {
   "cell_type": "code",
   "execution_count": 10,
   "id": "3debcf22",
   "metadata": {},
   "outputs": [],
   "source": [
    "a = 17\n",
    "aplusb = 23"
   ]
  },
  {
   "cell_type": "code",
   "execution_count": 11,
   "id": "52d11f1a",
   "metadata": {},
   "outputs": [],
   "source": [
    "b = aplusb - a\n",
    "natice = aplusb/(a-b)"
   ]
  },
  {
   "cell_type": "code",
   "execution_count": 14,
   "id": "33d43267",
   "metadata": {},
   "outputs": [
    {
     "name": "stdout",
     "output_type": "stream",
     "text": [
      "netice 2.090909090909091\n"
     ]
    }
   ],
   "source": [
    "print('netice',natice)"
   ]
  },
  {
   "cell_type": "markdown",
   "id": "63f820c6",
   "metadata": {},
   "source": [
    "2 + √2 + 1/(2+√2) + 1/(√2-2) = ?"
   ]
  },
  {
   "cell_type": "code",
   "execution_count": 15,
   "id": "96cf0bab",
   "metadata": {},
   "outputs": [],
   "source": [
    "a = 2\n",
    "b = math.sqrt(2)"
   ]
  },
  {
   "cell_type": "code",
   "execution_count": 16,
   "id": "924b91c9",
   "metadata": {},
   "outputs": [],
   "source": [
    "c = 1/(a+b)\n",
    "d = 1/(b-a)\n",
    "netice = a + b + c +d"
   ]
  },
  {
   "cell_type": "code",
   "execution_count": 18,
   "id": "18db8efa",
   "metadata": {},
   "outputs": [
    {
     "name": "stdout",
     "output_type": "stream",
     "text": [
      "netice 2.0\n"
     ]
    }
   ],
   "source": [
    "print('netice',round(netice,2))"
   ]
  },
  {
   "cell_type": "markdown",
   "id": "0a0818a2",
   "metadata": {},
   "source": [
    "Mal ətinin qiyməti 3% artırılırsa, evdar qadın mal ətinin istehlakını neçə faiz azaltmalıdır kiç əlavə xərc çıxmasın?"
   ]
  },
  {
   "cell_type": "code",
   "execution_count": 19,
   "id": "b774b1a9",
   "metadata": {},
   "outputs": [],
   "source": [
    "a = 3\n",
    "b = a*100/(a+100)"
   ]
  },
  {
   "cell_type": "code",
   "execution_count": 21,
   "id": "963ea9c3",
   "metadata": {},
   "outputs": [
    {
     "name": "stdout",
     "output_type": "stream",
     "text": [
      "Istehlakda 2.913 % azalma olmalidi\n"
     ]
    }
   ],
   "source": [
    "print('Istehlakda',round(b,3),'% azalma olmalidi')"
   ]
  },
  {
   "cell_type": "markdown",
   "id": "7f426bef",
   "metadata": {},
   "source": [
    "T-test"
   ]
  },
  {
   "cell_type": "code",
   "execution_count": 1,
   "id": "b8ef0d0b",
   "metadata": {},
   "outputs": [],
   "source": [
    "import numpy as np\n",
    "import pandas as pd \n",
    "import matplotlib.pyplot as plt\n",
    "import scipy.stats as stats\n",
    "import math"
   ]
  },
  {
   "cell_type": "code",
   "execution_count": 2,
   "id": "6660cc79",
   "metadata": {},
   "outputs": [
    {
     "name": "stdout",
     "output_type": "stream",
     "text": [
      "43.000112\n",
      "39.26\n"
     ]
    }
   ],
   "source": [
    "np.random.seed(6)\n",
    "\n",
    "\n",
    "populations_age1 = stats.poisson.rvs(loc = 18, mu = 35, size = 150000)\n",
    "\n",
    "populations_age2 = stats.poisson.rvs(loc = 18, mu = 10, size = 100000)\n",
    "\n",
    "populations_age =np.concatenate((populations_age1, populations_age2))\n",
    "\n",
    "\n",
    "minnestona_age1 = stats.poisson.rvs(loc = 18, mu = 30, size= 30)\n",
    "\n",
    "minnestona_age2 = stats.poisson.rvs(loc = 18, mu = 10, size = 20)\n",
    "\n",
    "minnestona_age = np.concatenate((minnestona_age1, minnestona_age2))\n",
    "\n",
    "\n",
    "print(populations_age.mean())\n",
    "print(minnestona_age.mean())"
   ]
  },
  {
   "cell_type": "code",
   "execution_count": 3,
   "id": "8fd82cc0",
   "metadata": {},
   "outputs": [
    {
     "data": {
      "text/plain": [
       "Ttest_1sampResult(statistic=-2.5742714883655027, pvalue=0.013118685425061678)"
      ]
     },
     "execution_count": 3,
     "metadata": {},
     "output_type": "execute_result"
    }
   ],
   "source": [
    "stats.ttest_1samp(a = minnestona_age,\n",
    "                 popmean = populations_age.mean())"
   ]
  },
  {
   "cell_type": "code",
   "execution_count": null,
   "id": "d8a82855",
   "metadata": {},
   "outputs": [],
   "source": []
  }
 ],
 "metadata": {
  "kernelspec": {
   "display_name": "Python 3 (ipykernel)",
   "language": "python",
   "name": "python3"
  },
  "language_info": {
   "codemirror_mode": {
    "name": "ipython",
    "version": 3
   },
   "file_extension": ".py",
   "mimetype": "text/x-python",
   "name": "python",
   "nbconvert_exporter": "python",
   "pygments_lexer": "ipython3",
   "version": "3.9.7"
  }
 },
 "nbformat": 4,
 "nbformat_minor": 5
}
